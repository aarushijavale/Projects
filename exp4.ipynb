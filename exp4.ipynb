{
  "nbformat": 4,
  "nbformat_minor": 0,
  "metadata": {
    "colab": {
      "provenance": []
    },
    "kernelspec": {
      "name": "python3",
      "display_name": "Python 3"
    },
    "language_info": {
      "name": "python"
    }
  },
  "cells": [
    {
      "cell_type": "code",
      "execution_count": null,
      "metadata": {
        "colab": {
          "base_uri": "https://localhost:8080/"
        },
        "id": "1n1JoaIVtbCd",
        "outputId": "2e1c3c81-66c1-4103-a144-6983394f9444"
      },
      "outputs": [
        {
          "output_type": "stream",
          "name": "stdout",
          "text": [
            "mango\n",
            "['cherry', 'apple', 'banana', 'mango', 'strawberry', 'pineapple']\n",
            "['cherry', 'apple', 'blueberry', 'banana', 'mango', 'strawberry', 'pineapple']\n",
            "['cherry', 'apple', 'blueberry', 'banana', 'strawberry', 'pineapple']\n",
            "['cherry', 'apple', 'blueberry', 'banana', 'strawberry']\n",
            "The list to be deleted is: ['cherry', 'banana']\n",
            "list deleted\n"
          ]
        }
      ],
      "source": [
        "fruits=[\"cherry\",\"apple\",\"banana\",\"mango\",\"strawberry\"]\n",
        "print(fruits[3])\n",
        "fruits.append(\"pineapple\")\n",
        "print(fruits)\n",
        "fruits.insert(2,\"blueberry\")\n",
        "print(fruits)\n",
        "fruits.remove(\"mango\")\n",
        "print(fruits)\n",
        "fruits.pop()\n",
        "print(fruits)\n",
        "fruit1=[\"cherry\",\"banana\"]\n",
        "print(\"The list to be deleted is:\",fruit1)\n",
        "del fruit1\n",
        "print(\"list deleted\")\n"
      ]
    },
    {
      "cell_type": "code",
      "source": [
        "list=[1,4,3,5,6]\n",
        "for x in list:\n",
        "    if x%2==0:\n",
        "        print(x)\n",
        "        x=x+1\n",
        "\n"
      ],
      "metadata": {
        "colab": {
          "base_uri": "https://localhost:8080/"
        },
        "id": "b5SUuDKswOVN",
        "outputId": "5bd7c084-2373-454e-9b86-502da8a2b75a"
      },
      "execution_count": null,
      "outputs": [
        {
          "output_type": "stream",
          "name": "stdout",
          "text": [
            "4\n",
            "6\n"
          ]
        }
      ]
    },
    {
      "cell_type": "code",
      "source": [
        "list1=[1,4,3,2,9]\n",
        "list2=[1,7,8,9,3]\n",
        "for x in list1:\n",
        "  for i in list2:\n",
        "    if x==i:\n",
        "      print(x)\n",
        "\n"
      ],
      "metadata": {
        "colab": {
          "base_uri": "https://localhost:8080/"
        },
        "id": "ROzR4EyjxIdf",
        "outputId": "535a7d24-b2db-45a2-d0c6-7e005b6ad94a"
      },
      "execution_count": null,
      "outputs": [
        {
          "output_type": "stream",
          "name": "stdout",
          "text": [
            "1\n",
            "3\n",
            "9\n"
          ]
        }
      ]
    },
    {
      "cell_type": "code",
      "source": [
        "fruits=[\"banana\",\"cherry\",\"apple\"]\n",
        "element=str(input(\"enter element to check:\"))\n",
        "if element in fruits:\n",
        "  print(\"Element present is:\",element)\n",
        "else:\n",
        "  print(\"element not present in list\")\n"
      ],
      "metadata": {
        "colab": {
          "base_uri": "https://localhost:8080/"
        },
        "id": "Gugi1on_uixz",
        "outputId": "1f5bd702-0f66-4215-fff7-489131011e20"
      },
      "execution_count": null,
      "outputs": [
        {
          "output_type": "stream",
          "name": "stdout",
          "text": [
            "enter element to check:mango\n",
            "element not present in list\n"
          ]
        }
      ]
    },
    {
      "cell_type": "code",
      "source": [],
      "metadata": {
        "id": "FgZHgES7tuWd"
      },
      "execution_count": null,
      "outputs": []
    }
  ]
}
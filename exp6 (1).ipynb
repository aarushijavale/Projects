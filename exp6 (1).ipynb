{
  "nbformat": 4,
  "nbformat_minor": 0,
  "metadata": {
    "colab": {
      "provenance": []
    },
    "kernelspec": {
      "name": "python3",
      "display_name": "Python 3"
    },
    "language_info": {
      "name": "python"
    }
  },
  "cells": [
    {
      "cell_type": "code",
      "execution_count": null,
      "metadata": {
        "colab": {
          "base_uri": "https://localhost:8080/"
        },
        "id": "4C-GYzPpeTCw",
        "outputId": "ee889132-6d97-49f2-da13-565b6bfd966c"
      },
      "outputs": [
        {
          "output_type": "stream",
          "name": "stdout",
          "text": [
            "{'Brand': 'Porsche', 'Model': '911 GT3', 'Year': 1973}\n",
            "Porsche\n",
            "{'Brand': 'Porsche', 'Model': '911 GT3', 'Year': 1973, 'Color': 'Magenta'}\n",
            "{'Brand': 'Porsche', 'Model': '911 GT3', 'Color': 'Magenta'}\n",
            "{'Brand': 'McLaren', 'Model': 'F1', 'Year': 1992}\n",
            "{'Brand': 'McLaren', 'Model': 'F1', 'Color': 'Magenta', 'Year': 1992}\n",
            "dict_values(['McLaren', 'F1', 'Magenta', 1992])\n"
          ]
        }
      ],
      "source": [
        "#Code 1:\n",
        "d1={\n",
        "    \"Brand\":\"Porsche\",\n",
        "    \"Model\":\"911 GT3\",\n",
        "    \"Year\":1973\n",
        "}\n",
        "print(d1)\n",
        "print(d1[\"Brand\"])\n",
        "d1.update({\"Color\":\"Magenta\"})\n",
        "print(d1)\n",
        "del d1[\"Year\"]\n",
        "print(d1)\n",
        "\n",
        "d2={\n",
        "    \"Brand\":\"McLaren\",\n",
        "    \"Model\":\"F1\",\n",
        "    \"Year\":1992\n",
        "}\n",
        "print(d2)\n",
        "d1.update(d2)\n",
        "print(d1)\n",
        "print(d1.values())"
      ]
    },
    {
      "cell_type": "code",
      "source": [
        "#Code 2:\n",
        "d1={\n",
        "    \"x\":10,\n",
        "    \"y\":10,\n",
        "    \"z\":5\n",
        "}\n",
        "print(d1)\n",
        "result=sum(d1.values())\n",
        "print(result)"
      ],
      "metadata": {
        "id": "fd5ldOuPe4ka"
      },
      "execution_count": null,
      "outputs": []
    },
    {
      "cell_type": "code",
      "source": [
        "#Code 3:\n",
        "d1={\n",
        "    \"Brand\":\"Porsche\",\n",
        "    \"Model\":\"911 GT3\",\n",
        "    \"Year\":1973,\n",
        "    \"Color\":\"Pink\"\n",
        "}\n",
        "print(d1)\n"
      ],
      "metadata": {
        "colab": {
          "base_uri": "https://localhost:8080/"
        },
        "id": "vNTIJ38HiYoB",
        "outputId": "8200869a-41c2-4f6c-bfab-dcb2f249999a"
      },
      "execution_count": null,
      "outputs": [
        {
          "output_type": "stream",
          "name": "stdout",
          "text": [
            "{'Brand': 'Porsche', 'Model': '911 GT3', 'Year': 1973, 'Color': 'Pink'}\n"
          ]
        }
      ]
    },
    {
      "cell_type": "code",
      "source": [
        "#Code 4:\n",
        "def sort_dict_by_value(d, reverse = False):\n",
        "    return dict(sorted(d.items(), key = lambda x: x[1], reverse = reverse))\n",
        "print(\"Original dictionary elements:\")\n",
        "colors = {'Red': 1, 'Green': 3, 'Black': 5, 'White': 2, 'Pink': 4}\n",
        "print(colors)\n",
        "print(\"\\nSort (ascending) the said dictionary elements by value:\")\n",
        "print(sort_dict_by_value(colors))\n",
        "print(\"\\nSort (descending) the said dictionary elements by value:\")\n",
        "print(sort_dict_by_value(colors, True))"
      ],
      "metadata": {
        "colab": {
          "base_uri": "https://localhost:8080/"
        },
        "id": "0bjHCcTtibdU",
        "outputId": "571acd22-99b7-4e54-a267-c17e01d56ee5"
      },
      "execution_count": null,
      "outputs": [
        {
          "output_type": "stream",
          "name": "stdout",
          "text": [
            "Original dictionary elements:\n",
            "{'Red': 1, 'Green': 3, 'Black': 5, 'White': 2, 'Pink': 4}\n",
            "\n",
            "Sort (ascending) the said dictionary elements by value:\n",
            "{'Red': 1, 'White': 2, 'Green': 3, 'Pink': 4, 'Black': 5}\n",
            "\n",
            "Sort (descending) the said dictionary elements by value:\n",
            "{'Black': 5, 'Pink': 4, 'Green': 3, 'White': 2, 'Red': 1}\n"
          ]
        }
      ]
    },
    {
      "cell_type": "code",
      "source": [
        "#Code 5:\n",
        "dict1 = {1:10, 2:20}\n",
        "dict2 = {3:30, 4:40}\n",
        "dict3 = {5:50,6:60}\n",
        "dict4 = {}\n",
        "for d in (dict1, dict2, dict3):\n",
        "    dict4.update(d)\n",
        "print(dict4)"
      ],
      "metadata": {
        "colab": {
          "base_uri": "https://localhost:8080/"
        },
        "id": "FT1K9B0qie6N",
        "outputId": "35d509bf-bcf7-4e5d-a156-10e7e969c92b"
      },
      "execution_count": null,
      "outputs": [
        {
          "output_type": "stream",
          "name": "stdout",
          "text": [
            "{1: 10, 2: 20, 3: 30, 4: 40, 5: 50, 6: 60}\n"
          ]
        }
      ]
    },
    {
      "cell_type": "code",
      "source": [
        "#Code 6:\n",
        "d1 = {'a': 100, 'b': 200, 'c':300}\n",
        "d2 = {'a': 300, 'b': 200, 'd':400}\n",
        "for key in dict2:\n",
        "    if key in dict1:\n",
        "        dict2[key] = dict2[key] + dict1[key]\n",
        "    else:\n",
        "        pass\n",
        "\n",
        "print(dict2)"
      ],
      "metadata": {
        "colab": {
          "base_uri": "https://localhost:8080/"
        },
        "id": "h7lNq02lihgq",
        "outputId": "fb8c2069-694f-4bd0-e025-07638d6c7e52"
      },
      "execution_count": null,
      "outputs": [
        {
          "output_type": "stream",
          "name": "stdout",
          "text": [
            "{3: 30, 4: 40}\n"
          ]
        }
      ]
    },
    {
      "cell_type": "code",
      "source": [
        "#Code 7:\n",
        "L = [{\"V\":\"S001\"}, {\"V\": \"S002\"}, {\"VI\": \"S001\"}, {\"VI\": \"S005\"},{\"VII\":\"S005\"}, {\"V\":\"S009\"}, {\"VIII\":\"S007\"}]\n",
        "print(\"Original List: \", L)\n",
        "u_value = set(val for dic in L for val in dic.values())\n",
        "print(\"Unique Values: \", u_value)"
      ],
      "metadata": {
        "colab": {
          "base_uri": "https://localhost:8080/"
        },
        "id": "WRdSyfYqiovl",
        "outputId": "3236139c-0cb2-4e8a-bc94-3db74de557f9"
      },
      "execution_count": null,
      "outputs": [
        {
          "output_type": "stream",
          "name": "stdout",
          "text": [
            "Original List:  [{'V': 'S001'}, {'V': 'S002'}, {'VI': 'S001'}, {'VI': 'S005'}, {'VII': 'S005'}, {'V': 'S009'}, {'VIII': 'S007'}]\n",
            "Unique Values:  {'S001', 'S002', 'S007', 'S009', 'S005'}\n"
          ]
        }
      ]
    },
    {
      "cell_type": "code",
      "source": [],
      "metadata": {
        "id": "cXS0WuVEiseo"
      },
      "execution_count": null,
      "outputs": []
    }
  ]
}
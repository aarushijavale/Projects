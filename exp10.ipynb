{
  "nbformat": 4,
  "nbformat_minor": 0,
  "metadata": {
    "colab": {
      "provenance": []
    },
    "kernelspec": {
      "name": "python3",
      "display_name": "Python 3"
    },
    "language_info": {
      "name": "python"
    }
  },
  "cells": [
    {
      "cell_type": "code",
      "execution_count": null,
      "metadata": {
        "colab": {
          "base_uri": "https://localhost:8080/"
        },
        "id": "h8r0-23sk-lZ",
        "outputId": "54bbacbd-87a6-4b6b-b426-24a16e1354a5"
      },
      "outputs": [
        {
          "output_type": "stream",
          "name": "stdout",
          "text": [
            "   Name  Location  Age\n",
            "0  John  New York   24\n",
            "1   Bob     Paris   13\n",
            "2  Sara    Berlin   53\n",
            "3   Ana    London   33\n"
          ]
        }
      ],
      "source": [
        "#Pandas Mondule: Working with date frames. Pandas is used for data analysis.\n",
        "import pandas as pd\n",
        "data={\n",
        "    \"Name\":[\"John\",\"Bob\",\"Sara\",\"Ana\"],\n",
        "    \"Location\":[\"New York\",\"Paris\",\"Berlin\",\"London\"],\n",
        "    \"Age\":[24,13,53,33]\n",
        "}\n",
        "df=pd.DataFrame(data)\n",
        "print(df)"
      ]
    },
    {
      "cell_type": "code",
      "source": [
        "#NumPy Module: Basic array operations, it is used for numerical computation.\n",
        "import numpy as np\n",
        "array1=np.array([1,2,3])\n",
        "array2=np.array([4,5,6])\n",
        "result=array1+array2\n",
        "print(\"Array 1:\", array1)\n",
        "print(\"Array 2:\", array2)\n",
        "print(\"Result(Addition)\", result)"
      ],
      "metadata": {
        "colab": {
          "base_uri": "https://localhost:8080/"
        },
        "id": "6p2m4LgelAW7",
        "outputId": "044300a0-0956-415c-8a87-b860a332a0a7"
      },
      "execution_count": null,
      "outputs": [
        {
          "output_type": "stream",
          "name": "stdout",
          "text": [
            "Array 1: [1 2 3]\n",
            "Array 2: [4 5 6]\n",
            "Result(Addition) [5 7 9]\n"
          ]
        }
      ]
    },
    {
      "cell_type": "code",
      "source": [
        "#Scikit-Learn: Simple linear regression, is used for machine learning tasks.\n",
        "from sklearn.linear_model import LinearRegression\n",
        "x=[[1],[2],[3]]\n",
        "y=[2,4,6]\n",
        "model=LinearRegression()\n",
        "model.fit(x,y)\n",
        "predicted=model.predict([[4],[5]])\n",
        "print(\"Predicted values:\", predicted[0])"
      ],
      "metadata": {
        "colab": {
          "base_uri": "https://localhost:8080/"
        },
        "id": "WQFsE7G4lDUs",
        "outputId": "fbd20bf5-d5d7-43c7-86f7-48e7b4f81002"
      },
      "execution_count": null,
      "outputs": [
        {
          "output_type": "stream",
          "name": "stdout",
          "text": [
            "Predicted values: 7.999999999999999\n"
          ]
        }
      ]
    },
    {
      "cell_type": "code",
      "source": [],
      "metadata": {
        "id": "aKt0G0omlFtB"
      },
      "execution_count": null,
      "outputs": []
    }
  ]
}
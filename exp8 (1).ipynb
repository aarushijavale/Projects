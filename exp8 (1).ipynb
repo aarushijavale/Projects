{
  "nbformat": 4,
  "nbformat_minor": 0,
  "metadata": {
    "colab": {
      "provenance": []
    },
    "kernelspec": {
      "name": "python3",
      "display_name": "Python 3"
    },
    "language_info": {
      "name": "python"
    }
  },
  "cells": [
    {
      "cell_type": "code",
      "execution_count": null,
      "metadata": {
        "id": "UAzKXtUrjRpU"
      },
      "outputs": [],
      "source": [
        "#Code 1:\n",
        "def add(a,b):\n",
        "  return a+b\n",
        "result=add(3,5)\n",
        "print(result)"
      ]
    },
    {
      "cell_type": "code",
      "source": [
        "#Code 2:\n",
        "def greet(name):\n",
        "  print(\"Hello, \"+name)\n",
        "greet(\"Noor\")"
      ],
      "metadata": {
        "colab": {
          "base_uri": "https://localhost:8080/"
        },
        "id": "mzCPvxzzjWKS",
        "outputId": "16b3c4e8-a8a7-42db-c375-6d14e7b3e91e"
      },
      "execution_count": null,
      "outputs": [
        {
          "output_type": "stream",
          "name": "stdout",
          "text": [
            "Hello, Noor\n"
          ]
        }
      ]
    },
    {
      "cell_type": "code",
      "source": [
        "#Code 3:\n",
        "creating a module('mymodule.py'):\n",
        "def greet(name):\n",
        "  return f{\"Hello, {name}!\"}\n",
        "\n",
        "#using module in another script('main py'):\n",
        "import mymodule\n",
        "print(mymodule.great(\"Alice\"))"
      ],
      "metadata": {
        "colab": {
          "base_uri": "https://localhost:8080/",
          "height": 110
        },
        "id": "2fJicJddjaLA",
        "outputId": "3e705730-0f83-4d56-b391-d3670f62b055"
      },
      "execution_count": null,
      "outputs": [
        {
          "output_type": "error",
          "ename": "SyntaxError",
          "evalue": "invalid syntax (<ipython-input-3-7c0d17643ebb>, line 2)",
          "traceback": [
            "\u001b[0;36m  File \u001b[0;32m\"<ipython-input-3-7c0d17643ebb>\"\u001b[0;36m, line \u001b[0;32m2\u001b[0m\n\u001b[0;31m    creating a module('mymodule.py'):\u001b[0m\n\u001b[0m             ^\u001b[0m\n\u001b[0;31mSyntaxError\u001b[0m\u001b[0;31m:\u001b[0m invalid syntax\n"
          ]
        }
      ]
    },
    {
      "cell_type": "code",
      "source": [
        "#Code 4:\n",
        "#Reverse Program:-\n",
        "def reverse_no(n):\n",
        "  return int (str(n)[::-1])\n",
        "num=int(input(\"Enter a number:\"))\n",
        "print(\"Reversed number:\",reverse_no(num))"
      ],
      "metadata": {
        "colab": {
          "base_uri": "https://localhost:8080/"
        },
        "id": "53R533Rjj4Fm",
        "outputId": "c75cb54b-7eee-477c-be68-0dcccb255503"
      },
      "execution_count": null,
      "outputs": [
        {
          "output_type": "stream",
          "name": "stdout",
          "text": [
            "Enter a number:24\n",
            "Reversed number: 42\n"
          ]
        }
      ]
    }
  ]
}
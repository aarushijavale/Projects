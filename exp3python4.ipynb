{
  "nbformat": 4,
  "nbformat_minor": 0,
  "metadata": {
    "colab": {
      "provenance": []
    },
    "kernelspec": {
      "name": "python3",
      "display_name": "Python 3"
    },
    "language_info": {
      "name": "python"
    }
  },
  "cells": [
    {
      "cell_type": "code",
      "execution_count": null,
      "metadata": {
        "colab": {
          "base_uri": "https://localhost:8080/"
        },
        "id": "HYG6BB5FfbYx",
        "outputId": "b68e04fe-5b11-4097-d56c-ee60b6343de3"
      },
      "outputs": [
        {
          "output_type": "stream",
          "name": "stdout",
          "text": [
            "enter a number:1234\n",
            "the reversed number is: 4321\n"
          ]
        }
      ],
      "source": [
        "#reverse a num\n",
        "num=int(input(\"enter a number:\"))\n",
        "rev_num=0\n",
        "while num>0:\n",
        "  digit=num%10\n",
        "  rev_num=rev_num*10+digit\n",
        "  num=num//10\n",
        "print(\"the reversed number is:\",rev_num)"
      ]
    },
    {
      "cell_type": "code",
      "source": [
        "#even nos between 1 to 100\n",
        "num=2\n",
        "while num<=100:\n",
        "  print(num)\n",
        "  num+=2"
      ],
      "metadata": {
        "colab": {
          "base_uri": "https://localhost:8080/"
        },
        "id": "dQqwkG75gp7v",
        "outputId": "fd527847-c02d-4aa4-9f80-0f04e10cea2d"
      },
      "execution_count": null,
      "outputs": [
        {
          "output_type": "stream",
          "name": "stdout",
          "text": [
            "2\n",
            "4\n",
            "6\n",
            "8\n",
            "10\n",
            "12\n",
            "14\n",
            "16\n",
            "18\n",
            "20\n",
            "22\n",
            "24\n",
            "26\n",
            "28\n",
            "30\n",
            "32\n",
            "34\n",
            "36\n",
            "38\n",
            "40\n",
            "42\n",
            "44\n",
            "46\n",
            "48\n",
            "50\n",
            "52\n",
            "54\n",
            "56\n",
            "58\n",
            "60\n",
            "62\n",
            "64\n",
            "66\n",
            "68\n",
            "70\n",
            "72\n",
            "74\n",
            "76\n",
            "78\n",
            "80\n",
            "82\n",
            "84\n",
            "86\n",
            "88\n",
            "90\n",
            "92\n",
            "94\n",
            "96\n",
            "98\n",
            "100\n"
          ]
        }
      ]
    },
    {
      "cell_type": "code",
      "source": [],
      "metadata": {
        "id": "f-hSxdNkgTv5"
      },
      "execution_count": null,
      "outputs": []
    }
  ]
}